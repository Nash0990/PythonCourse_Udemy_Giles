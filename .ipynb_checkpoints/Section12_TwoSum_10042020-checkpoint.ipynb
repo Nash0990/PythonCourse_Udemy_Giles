{
 "cells": [
  {
   "cell_type": "markdown",
   "metadata": {},
   "source": [
    "## Two Sum problem\n",
    "Given a list of numbers, and a target return the indecis of the 2 numbers that add up to the targer number or if not possible return -1.\n",
    "\n",
    "Eg: [1,2,3,4,5,6] Target is 10\n",
    "\n",
    "Ans: 3,5"
   ]
  },
  {
   "cell_type": "code",
   "execution_count": 9,
   "metadata": {},
   "outputs": [],
   "source": [
    "my_list=[1,2,3,4,5,6]\n",
    "target=10\n",
    "output=[]\n",
    "\n",
    "for i in range(0,len(my_list)):\n",
    "    for j in range(1+i,len(my_list)):\n",
    "        tot=my_list[i]+my_list[j]\n",
    "        if tot==target:\n",
    "            output.append(i)\n",
    "            output.append(j)\n",
    "            break\n",
    "if len(output)==0:\n",
    "    output.append(-1)"
   ]
  },
  {
   "cell_type": "code",
   "execution_count": 10,
   "metadata": {},
   "outputs": [
    {
     "data": {
      "text/plain": [
       "[3, 5]"
      ]
     },
     "execution_count": 10,
     "metadata": {},
     "output_type": "execute_result"
    }
   ],
   "source": [
    "output"
   ]
  },
  {
   "cell_type": "code",
   "execution_count": 14,
   "metadata": {},
   "outputs": [],
   "source": [
    "def TwoSum(my_list,target):\n",
    "    output=[]\n",
    "\n",
    "    for i in range(0,len(my_list)):\n",
    "        for j in range(1+i,len(my_list)):\n",
    "            tot=my_list[i]+my_list[j]\n",
    "            if tot==target:\n",
    "                output.append(i)\n",
    "                output.append(j)\n",
    "                return output\n",
    "    if len(output)==0:\n",
    "        output.append(-1)\n",
    "    return output"
   ]
  },
  {
   "cell_type": "code",
   "execution_count": 17,
   "metadata": {},
   "outputs": [
    {
     "data": {
      "text/plain": [
       "[-1]"
      ]
     },
     "execution_count": 17,
     "metadata": {},
     "output_type": "execute_result"
    }
   ],
   "source": [
    "TwoSum([2,5,6,7,9],100)"
   ]
  },
  {
   "cell_type": "markdown",
   "metadata": {},
   "source": [
    "Alternative way using dictionary"
   ]
  },
  {
   "cell_type": "code",
   "execution_count": 23,
   "metadata": {},
   "outputs": [],
   "source": [
    "def TwoSum2(my_list,target):\n",
    "    d = {}\n",
    "    for i in range(len(my_list)):\n",
    "        if target - my_list[i] in d:\n",
    "            print(d)\n",
    "            return [d[target - my_list[i]],i]\n",
    "        d[my_list[i]]=i\n",
    "    return -1"
   ]
  },
  {
   "cell_type": "code",
   "execution_count": 20,
   "metadata": {},
   "outputs": [
    {
     "data": {
      "text/plain": [
       "[0, 3]"
      ]
     },
     "execution_count": 20,
     "metadata": {},
     "output_type": "execute_result"
    }
   ],
   "source": [
    "TwoSum([2,5,8,3],5)"
   ]
  },
  {
   "cell_type": "code",
   "execution_count": 51,
   "metadata": {},
   "outputs": [
    {
     "name": "stdout",
     "output_type": "stream",
     "text": [
      "{2: 0, 5: 1, 8: 2}\n"
     ]
    },
    {
     "data": {
      "text/plain": [
       "[0, 3]"
      ]
     },
     "execution_count": 51,
     "metadata": {},
     "output_type": "execute_result"
    }
   ],
   "source": [
    "TwoSum2([2,5,8,3],5)"
   ]
  },
  {
   "cell_type": "code",
   "execution_count": 52,
   "metadata": {},
   "outputs": [
    {
     "data": {
      "text/plain": [
       "[0, 1]"
      ]
     },
     "execution_count": 52,
     "metadata": {},
     "output_type": "execute_result"
    }
   ],
   "source": [
    "TwoSum([2,2],4)"
   ]
  }
 ],
 "metadata": {
  "kernelspec": {
   "display_name": "Python 3",
   "language": "python",
   "name": "python3"
  },
  "language_info": {
   "codemirror_mode": {
    "name": "ipython",
    "version": 3
   },
   "file_extension": ".py",
   "mimetype": "text/x-python",
   "name": "python",
   "nbconvert_exporter": "python",
   "pygments_lexer": "ipython3",
   "version": "3.7.3"
  }
 },
 "nbformat": 4,
 "nbformat_minor": 2
}
