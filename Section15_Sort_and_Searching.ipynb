{
 "cells": [
  {
   "cell_type": "markdown",
   "metadata": {},
   "source": [
    "## Sorting and Searching"
   ]
  },
  {
   "cell_type": "markdown",
   "metadata": {},
   "source": [
    "### Linear Serach\n",
    "\n",
    "It is an intuvitive way of searching, its a kind of brute search i.e. keep searching till you exaust the last item in the list. Obviously its time complexity is linear i.e. the Bio O is O(n), where n equals the number of entries in the list and as n increases so does the time. The best case scenario is the item being searched is the first one, and worst case scenario is that the item is the last one or not present in the list.   "
   ]
  },
  {
   "cell_type": "code",
   "execution_count": 17,
   "metadata": {},
   "outputs": [],
   "source": [
    "def linear_search(item,list):\n",
    "    i = 0\n",
    "    found = False\n",
    "    while found == False and i < len(list):\n",
    "        if list[i]==item:\n",
    "            found = True\n",
    "        else:\n",
    "            i+= 1\n",
    "    \n",
    "    if found == True:\n",
    "        return print('Item is found in list')\n",
    "    else:\n",
    "        return print('Item not present in list')\n",
    "\n",
    "        "
   ]
  },
  {
   "cell_type": "code",
   "execution_count": 19,
   "metadata": {},
   "outputs": [
    {
     "name": "stdout",
     "output_type": "stream",
     "text": [
      "Item not present in list\n",
      "Item is found in list\n"
     ]
    }
   ],
   "source": [
    "linear_search(5,[1,2,3,4])\n",
    "linear_search(5,[1,2,3,4,5])\n"
   ]
  },
  {
   "cell_type": "markdown",
   "metadata": {},
   "source": [
    "### Binary Search\n",
    "\n",
    "In this case, the logic is that the search has reference to a dictionary, and based on the the middle item being picked first will decide wether the item being searched is the same as the one picked, if not then depending on the value chooses to split the list and check the left list or right list if the value of the middle item is more or less to the item being searched."
   ]
  },
  {
   "cell_type": "code",
   "execution_count": 57,
   "metadata": {},
   "outputs": [],
   "source": [
    "def binary_search(item,list):\n",
    "    list=sorted(list)\n",
    "    found = False\n",
    "    first = 0\n",
    "    last = len(list) -1\n",
    "    \n",
    "    while first <= last and found==False:\n",
    "        midpoint=(first + last)//2\n",
    "        \n",
    "        if list[midpoint] == item:\n",
    "            found = True\n",
    "        else:\n",
    "            if list[midpoint] < item:\n",
    "                first = midpoint + 1\n",
    "            else:\n",
    "                last = midpoint - 1\n",
    "    return found"
   ]
  },
  {
   "cell_type": "code",
   "execution_count": 58,
   "metadata": {},
   "outputs": [
    {
     "data": {
      "text/plain": [
       "True"
      ]
     },
     "execution_count": 58,
     "metadata": {},
     "output_type": "execute_result"
    }
   ],
   "source": [
    "binary_search(4,[6,36,8,4,3,5,7,8,5,3,23,5])"
   ]
  },
  {
   "cell_type": "markdown",
   "metadata": {},
   "source": [
    "### Bubble sort"
   ]
  },
  {
   "cell_type": "code",
   "execution_count": 59,
   "metadata": {},
   "outputs": [],
   "source": [
    "def bubble_sort(myList):\n",
    "    swap_again = True\n",
    "    n = len(myList)\n",
    "    \n",
    "    while n > 0 and swap_again == True:\n",
    "        n = n -1\n",
    "        swap_again = False\n",
    "        \n",
    "        for i in range(n):\n",
    "            if myList[i] > myList[i+1]:\n",
    "                myList[i] , myList[i+1] = myList[i+1] , myList[i]\n",
    "                swap_again = True\n",
    "    return myList\n",
    "                "
   ]
  },
  {
   "cell_type": "code",
   "execution_count": 60,
   "metadata": {},
   "outputs": [
    {
     "data": {
      "text/plain": [
       "[2, 2, 3, 4, 6, 7, 8, 8, 9, 35, 43]"
      ]
     },
     "execution_count": 60,
     "metadata": {},
     "output_type": "execute_result"
    }
   ],
   "source": [
    "bubble_sort([9,8,6,35,7,8,3,43,2,2,4])"
   ]
  },
  {
   "cell_type": "markdown",
   "metadata": {},
   "source": [
    "### Insertion Sort"
   ]
  },
  {
   "cell_type": "code",
   "execution_count": 61,
   "metadata": {},
   "outputs": [],
   "source": [
    "def insertion_sort(myList):\n",
    "    n = len(myList)\n",
    "    for i in range(1,n):\n",
    "        value = myList[i]\n",
    "        j = i\n",
    "        while j > 0 and myList[j-1] > value:\n",
    "            myList[j] = myList[j-1]\n",
    "            j = j - 1\n",
    "        myList[j] = value\n",
    "    return myList"
   ]
  },
  {
   "cell_type": "code",
   "execution_count": 62,
   "metadata": {},
   "outputs": [
    {
     "data": {
      "text/plain": [
       "[2, 2, 3, 4, 6, 7, 8, 8, 9, 35, 43]"
      ]
     },
     "execution_count": 62,
     "metadata": {},
     "output_type": "execute_result"
    }
   ],
   "source": [
    "insertion_sort([9,8,6,35,7,8,3,43,2,2,4])"
   ]
  },
  {
   "cell_type": "code",
   "execution_count": null,
   "metadata": {},
   "outputs": [],
   "source": []
  }
 ],
 "metadata": {
  "kernelspec": {
   "display_name": "Python 3",
   "language": "python",
   "name": "python3"
  },
  "language_info": {
   "codemirror_mode": {
    "name": "ipython",
    "version": 3
   },
   "file_extension": ".py",
   "mimetype": "text/x-python",
   "name": "python",
   "nbconvert_exporter": "python",
   "pygments_lexer": "ipython3",
   "version": "3.7.3"
  }
 },
 "nbformat": 4,
 "nbformat_minor": 2
}
