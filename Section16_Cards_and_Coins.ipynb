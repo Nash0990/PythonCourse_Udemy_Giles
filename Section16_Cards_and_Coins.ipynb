{
 "cells": [
  {
   "cell_type": "markdown",
   "metadata": {},
   "source": [
    "## Cards and Coins"
   ]
  },
  {
   "cell_type": "markdown",
   "metadata": {},
   "source": [
    "### Credit Card number validation using Luhn's Algorithm\n",
    "\n",
    "Luhn's algorithm stats that if you mulpiply 2 to every second digit starting from last and then you add all of the digits from the product togather. To that you add sum of the digits that were not multiplied by 2 and then you divide it by 10. If the remainder is 0, then the credit card number is valid."
   ]
  },
  {
   "cell_type": "markdown",
   "metadata": {},
   "source": [
    "Example Set for Lhun's algo\n",
    "\n",
    "3 7 1 4 4 9 6 3 5 3 9 8 4 3 1\n",
    " \n",
    "multiply 2 to 3,8,3,3,9,4,7\n",
    "\n",
    "i.e. 6,16,6,6,18,8,14 Sum=6,1,6,6,6,1,8,8,1,4=47\n",
    "\n",
    "to that add, 3,1,4,6,5,9,4,1 = 33\n",
    "\n",
    "33+47=80\n",
    "\n",
    "80 % 10 = 0"
   ]
  },
  {
   "cell_type": "code",
   "execution_count": 39,
   "metadata": {},
   "outputs": [],
   "source": [
    "def LuhnAlgo(CredNo):\n",
    "    mylist = list(CredNo)\n",
    "    odd = 0\n",
    "    even = ''\n",
    "    tot = 0\n",
    "    mylist.reverse()\n",
    "    for i,num in enumerate(mylist,start = 1):\n",
    "        if i % 2 == 0:\n",
    "            even = even + str(int(num)*2)\n",
    "            #print('product of ',num ,' is ',str(int(num)*2))\n",
    "        else:\n",
    "            odd = odd + int(num)\n",
    "    #print('Sum of odds is ',odd)\n",
    "    for i in even:\n",
    "        tot = tot + int(i)\n",
    "    #print('Sum of products is',tot)\n",
    "    tot = tot + odd\n",
    "    \n",
    "    if tot % 10 == 0:\n",
    "        return print(\"Credit Cards number is valid.\")\n",
    "    else:\n",
    "        return print(\"Credit Cards number is invalid!!!\")"
   ]
  },
  {
   "cell_type": "code",
   "execution_count": 40,
   "metadata": {},
   "outputs": [],
   "source": [
    "cred='371449635398431'\n",
    "cred=list(cred)"
   ]
  },
  {
   "cell_type": "code",
   "execution_count": 41,
   "metadata": {},
   "outputs": [
    {
     "name": "stdout",
     "output_type": "stream",
     "text": [
      "Credit Cards number is valid.\n"
     ]
    }
   ],
   "source": [
    "LuhnAlgo(cred)"
   ]
  },
  {
   "cell_type": "code",
   "execution_count": 42,
   "metadata": {},
   "outputs": [
    {
     "name": "stdout",
     "output_type": "stream",
     "text": [
      "Credit Cards number is valid.\n"
     ]
    }
   ],
   "source": [
    "LuhnAlgo('4222222222222')"
   ]
  },
  {
   "cell_type": "markdown",
   "metadata": {},
   "source": [
    "### Coins\n"
   ]
  },
  {
   "cell_type": "code",
   "execution_count": 92,
   "metadata": {},
   "outputs": [],
   "source": [
    "n=10001\n",
    "coins=[0]*n"
   ]
  },
  {
   "cell_type": "code",
   "execution_count": 93,
   "metadata": {},
   "outputs": [],
   "source": [
    "for i in range(1,n):\n",
    "    for j in range(0,n,i):\n",
    "        coins[j] = 1 - coins[j]"
   ]
  },
  {
   "cell_type": "code",
   "execution_count": 94,
   "metadata": {},
   "outputs": [],
   "source": [
    "d = {}\n",
    "\n",
    "for i,v in enumerate(coins):\n",
    "    if v != 1:\n",
    "        d[i] = v"
   ]
  },
  {
   "cell_type": "code",
   "execution_count": 95,
   "metadata": {},
   "outputs": [
    {
     "data": {
      "text/plain": [
       "{1: -1,\n",
       " 4: -1,\n",
       " 9: -1,\n",
       " 16: -1,\n",
       " 25: -1,\n",
       " 36: -1,\n",
       " 49: -1,\n",
       " 64: -1,\n",
       " 81: -1,\n",
       " 100: -1,\n",
       " 121: -1,\n",
       " 144: -1,\n",
       " 169: -1,\n",
       " 196: -1,\n",
       " 225: -1,\n",
       " 256: -1,\n",
       " 289: -1,\n",
       " 324: -1,\n",
       " 361: -1,\n",
       " 400: -1,\n",
       " 441: -1,\n",
       " 484: -1,\n",
       " 529: -1,\n",
       " 576: -1,\n",
       " 625: -1,\n",
       " 676: -1,\n",
       " 729: -1,\n",
       " 784: -1,\n",
       " 841: -1,\n",
       " 900: -1,\n",
       " 961: -1,\n",
       " 1024: -1,\n",
       " 1089: -1,\n",
       " 1156: -1,\n",
       " 1225: -1,\n",
       " 1296: -1,\n",
       " 1369: -1,\n",
       " 1444: -1,\n",
       " 1521: -1,\n",
       " 1600: -1,\n",
       " 1681: -1,\n",
       " 1764: -1,\n",
       " 1849: -1,\n",
       " 1936: -1,\n",
       " 2025: -1,\n",
       " 2116: -1,\n",
       " 2209: -1,\n",
       " 2304: -1,\n",
       " 2401: -1,\n",
       " 2500: -1,\n",
       " 2601: -1,\n",
       " 2704: -1,\n",
       " 2809: -1,\n",
       " 2916: -1,\n",
       " 3025: -1,\n",
       " 3136: -1,\n",
       " 3249: -1,\n",
       " 3364: -1,\n",
       " 3481: -1,\n",
       " 3600: -1,\n",
       " 3721: -1,\n",
       " 3844: -1,\n",
       " 3969: -1,\n",
       " 4096: -1,\n",
       " 4225: -1,\n",
       " 4356: -1,\n",
       " 4489: -1,\n",
       " 4624: -1,\n",
       " 4761: -1,\n",
       " 4900: -1,\n",
       " 5041: -1,\n",
       " 5184: -1,\n",
       " 5329: -1,\n",
       " 5476: -1,\n",
       " 5625: -1,\n",
       " 5776: -1,\n",
       " 5929: -1,\n",
       " 6084: -1,\n",
       " 6241: -1,\n",
       " 6400: -1,\n",
       " 6561: -1,\n",
       " 6724: -1,\n",
       " 6889: -1,\n",
       " 7056: -1,\n",
       " 7225: -1,\n",
       " 7396: -1,\n",
       " 7569: -1,\n",
       " 7744: -1,\n",
       " 7921: -1,\n",
       " 8100: -1,\n",
       " 8281: -1,\n",
       " 8464: -1,\n",
       " 8649: -1,\n",
       " 8836: -1,\n",
       " 9025: -1,\n",
       " 9216: -1,\n",
       " 9409: -1,\n",
       " 9604: -1,\n",
       " 9801: -1,\n",
       " 10000: -1}"
      ]
     },
     "execution_count": 95,
     "metadata": {},
     "output_type": "execute_result"
    }
   ],
   "source": [
    "d"
   ]
  },
  {
   "cell_type": "code",
   "execution_count": null,
   "metadata": {},
   "outputs": [],
   "source": []
  }
 ],
 "metadata": {
  "kernelspec": {
   "display_name": "Python 3",
   "language": "python",
   "name": "python3"
  },
  "language_info": {
   "codemirror_mode": {
    "name": "ipython",
    "version": 3
   },
   "file_extension": ".py",
   "mimetype": "text/x-python",
   "name": "python",
   "nbconvert_exporter": "python",
   "pygments_lexer": "ipython3",
   "version": "3.7.3"
  }
 },
 "nbformat": 4,
 "nbformat_minor": 2
}
