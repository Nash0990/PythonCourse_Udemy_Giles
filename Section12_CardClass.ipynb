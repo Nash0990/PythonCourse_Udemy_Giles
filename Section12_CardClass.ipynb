{
 "cells": [
  {
   "cell_type": "markdown",
   "metadata": {},
   "source": [
    "## Card Class\n",
    "\n",
    "Create a class that once intiated will make a card with value and suite. Method to show value."
   ]
  },
  {
   "cell_type": "code",
   "execution_count": 11,
   "metadata": {},
   "outputs": [],
   "source": [
    "class Card(object):\n",
    "    '''\n",
    "    Attributes\n",
    "    ----------\n",
    "    value: Value of the card\n",
    "    suite: Suite of the card\n",
    "    '''\n",
    "    \n",
    "    def __init__(self,value,suite):\n",
    "        self.value=value\n",
    "        self.suite=suite\n",
    "    \n",
    "    def getValue(self):\n",
    "        return self.value\n",
    "    \n",
    "    def getSuite(self):\n",
    "        return self.suite\n",
    "    \n",
    "    def __str__(self):\n",
    "        my_card=str(self.value) + \" of \" + str(self.suite)\n",
    "        return my_card"
   ]
  },
  {
   "cell_type": "code",
   "execution_count": 12,
   "metadata": {},
   "outputs": [],
   "source": [
    "C1=Card(,\"Diamond\")"
   ]
  },
  {
   "cell_type": "code",
   "execution_count": 13,
   "metadata": {},
   "outputs": [
    {
     "data": {
      "text/plain": [
       "'Diamond'"
      ]
     },
     "execution_count": 13,
     "metadata": {},
     "output_type": "execute_result"
    }
   ],
   "source": [
    "C1.getSuite()"
   ]
  },
  {
   "cell_type": "code",
   "execution_count": 14,
   "metadata": {},
   "outputs": [
    {
     "name": "stdout",
     "output_type": "stream",
     "text": [
      "1 of Diamond\n"
     ]
    }
   ],
   "source": [
    "print(C1)"
   ]
  },
  {
   "cell_type": "code",
   "execution_count": null,
   "metadata": {},
   "outputs": [],
   "source": []
  }
 ],
 "metadata": {
  "kernelspec": {
   "display_name": "Python 3",
   "language": "python",
   "name": "python3"
  },
  "language_info": {
   "codemirror_mode": {
    "name": "ipython",
    "version": 3
   },
   "file_extension": ".py",
   "mimetype": "text/x-python",
   "name": "python",
   "nbconvert_exporter": "python",
   "pygments_lexer": "ipython3",
   "version": "3.7.3"
  }
 },
 "nbformat": 4,
 "nbformat_minor": 2
}
